{
 "cells": [
  {
   "cell_type": "markdown",
   "metadata": {},
   "source": [
    "# Import Libraries"
   ]
  },
  {
   "cell_type": "code",
   "execution_count": 1,
   "metadata": {
    "ExecuteTime": {
     "end_time": "2022-12-21T17:15:12.021490Z",
     "start_time": "2022-12-21T17:15:10.814488Z"
    }
   },
   "outputs": [],
   "source": [
    "import pandas as pd\n",
    "import numpy as np\n",
    "from scipy.spatial.distance import euclidean\n",
    "import matplotlib.pyplot as plt\n",
    "import seaborn as sns"
   ]
  },
  {
   "cell_type": "markdown",
   "metadata": {},
   "source": [
    "# Importing Dataset"
   ]
  },
  {
   "cell_type": "code",
   "execution_count": 2,
   "metadata": {
    "ExecuteTime": {
     "end_time": "2022-12-21T17:15:12.067260Z",
     "start_time": "2022-12-21T17:15:12.024458Z"
    }
   },
   "outputs": [
    {
     "data": {
      "text/html": [
       "<div>\n",
       "<style scoped>\n",
       "    .dataframe tbody tr th:only-of-type {\n",
       "        vertical-align: middle;\n",
       "    }\n",
       "\n",
       "    .dataframe tbody tr th {\n",
       "        vertical-align: top;\n",
       "    }\n",
       "\n",
       "    .dataframe thead th {\n",
       "        text-align: right;\n",
       "    }\n",
       "</style>\n",
       "<table border=\"1\" class=\"dataframe\">\n",
       "  <thead>\n",
       "    <tr style=\"text-align: right;\">\n",
       "      <th></th>\n",
       "      <th>BizDomainId</th>\n",
       "      <th>WarningSign</th>\n",
       "      <th>ActiveUsers/AddedUsers</th>\n",
       "      <th>Pending/Whole_TransSpeed</th>\n",
       "      <th>CasesRatio</th>\n",
       "      <th>ActivitiesRatio</th>\n",
       "      <th>Delay_Lag/Whole</th>\n",
       "    </tr>\n",
       "  </thead>\n",
       "  <tbody>\n",
       "    <tr>\n",
       "      <th>0</th>\n",
       "      <td>28710004-7957-4cae-8528-2e45bd62bbe9</td>\n",
       "      <td>0.0</td>\n",
       "      <td>0.000000</td>\n",
       "      <td>0.0</td>\n",
       "      <td>0.0</td>\n",
       "      <td>0.0</td>\n",
       "      <td>0.0</td>\n",
       "    </tr>\n",
       "    <tr>\n",
       "      <th>1</th>\n",
       "      <td>1374a992-1317-4bd8-8129-874374a25f2b</td>\n",
       "      <td>0.0</td>\n",
       "      <td>0.375000</td>\n",
       "      <td>0.0</td>\n",
       "      <td>0.0</td>\n",
       "      <td>0.0</td>\n",
       "      <td>0.0</td>\n",
       "    </tr>\n",
       "    <tr>\n",
       "      <th>2</th>\n",
       "      <td>e522f481-9224-47d1-b248-ab00983cd1a3</td>\n",
       "      <td>0.0</td>\n",
       "      <td>0.320833</td>\n",
       "      <td>0.0</td>\n",
       "      <td>0.0</td>\n",
       "      <td>0.0</td>\n",
       "      <td>0.0</td>\n",
       "    </tr>\n",
       "    <tr>\n",
       "      <th>3</th>\n",
       "      <td>d7b7b402-47a7-40df-bf26-65a5b5fdcb16</td>\n",
       "      <td>0.0</td>\n",
       "      <td>0.000000</td>\n",
       "      <td>0.0</td>\n",
       "      <td>0.0</td>\n",
       "      <td>0.0</td>\n",
       "      <td>0.0</td>\n",
       "    </tr>\n",
       "    <tr>\n",
       "      <th>4</th>\n",
       "      <td>a4a3f452-aa6d-4474-b032-82915f6fd267</td>\n",
       "      <td>0.0</td>\n",
       "      <td>0.181818</td>\n",
       "      <td>0.0</td>\n",
       "      <td>0.0</td>\n",
       "      <td>0.0</td>\n",
       "      <td>1.0</td>\n",
       "    </tr>\n",
       "  </tbody>\n",
       "</table>\n",
       "</div>"
      ],
      "text/plain": [
       "                            BizDomainId  WarningSign  ActiveUsers/AddedUsers  \\\n",
       "0  28710004-7957-4cae-8528-2e45bd62bbe9          0.0                0.000000   \n",
       "1  1374a992-1317-4bd8-8129-874374a25f2b          0.0                0.375000   \n",
       "2  e522f481-9224-47d1-b248-ab00983cd1a3          0.0                0.320833   \n",
       "3  d7b7b402-47a7-40df-bf26-65a5b5fdcb16          0.0                0.000000   \n",
       "4  a4a3f452-aa6d-4474-b032-82915f6fd267          0.0                0.181818   \n",
       "\n",
       "   Pending/Whole_TransSpeed  CasesRatio  ActivitiesRatio  Delay_Lag/Whole  \n",
       "0                       0.0         0.0              0.0              0.0  \n",
       "1                       0.0         0.0              0.0              0.0  \n",
       "2                       0.0         0.0              0.0              0.0  \n",
       "3                       0.0         0.0              0.0              0.0  \n",
       "4                       0.0         0.0              0.0              1.0  "
      ]
     },
     "execution_count": 2,
     "metadata": {},
     "output_type": "execute_result"
    }
   ],
   "source": [
    "df = pd.read_csv(r'Notebooks Data Process/3. Feature_Engineered.csv').drop(columns=['RegisterTime' , 'ExpirationDate','BizIsExpired?'])\n",
    "del df['#Cases']\n",
    "del df['#Activities']\n",
    "df.head()"
   ]
  },
  {
   "attachments": {},
   "cell_type": "markdown",
   "metadata": {},
   "source": [
    "# Calculating weights"
   ]
  },
  {
   "cell_type": "code",
   "execution_count": 3,
   "metadata": {},
   "outputs": [
    {
     "data": {
      "text/html": [
       "<div>\n",
       "<style scoped>\n",
       "    .dataframe tbody tr th:only-of-type {\n",
       "        vertical-align: middle;\n",
       "    }\n",
       "\n",
       "    .dataframe tbody tr th {\n",
       "        vertical-align: top;\n",
       "    }\n",
       "\n",
       "    .dataframe thead th {\n",
       "        text-align: right;\n",
       "    }\n",
       "</style>\n",
       "<table border=\"1\" class=\"dataframe\">\n",
       "  <thead>\n",
       "    <tr style=\"text-align: right;\">\n",
       "      <th></th>\n",
       "      <th>Entropy</th>\n",
       "      <th>MEREC</th>\n",
       "      <th>CRITIC</th>\n",
       "      <th>CILOS</th>\n",
       "      <th>IDOCRIW</th>\n",
       "      <th>ANGLE</th>\n",
       "      <th>GINI</th>\n",
       "      <th>std</th>\n",
       "      <th>var</th>\n",
       "      <th>Deal_weights</th>\n",
       "    </tr>\n",
       "  </thead>\n",
       "  <tbody>\n",
       "    <tr>\n",
       "      <th>WarningSign</th>\n",
       "      <td>0.289203</td>\n",
       "      <td>0.016644</td>\n",
       "      <td>0.093012</td>\n",
       "      <td>0.039321</td>\n",
       "      <td>0.039321</td>\n",
       "      <td>0.215030</td>\n",
       "      <td>0.215880</td>\n",
       "      <td>0.086455</td>\n",
       "      <td>0.039098</td>\n",
       "      <td>0.162694</td>\n",
       "    </tr>\n",
       "    <tr>\n",
       "      <th>ActiveUsers/AddedUsers</th>\n",
       "      <td>0.037007</td>\n",
       "      <td>0.512805</td>\n",
       "      <td>0.222325</td>\n",
       "      <td>0.412806</td>\n",
       "      <td>0.412806</td>\n",
       "      <td>0.102893</td>\n",
       "      <td>0.097438</td>\n",
       "      <td>0.211976</td>\n",
       "      <td>0.235044</td>\n",
       "      <td>0.216827</td>\n",
       "    </tr>\n",
       "    <tr>\n",
       "      <th>Pending/Whole_TransSpeed</th>\n",
       "      <td>0.280538</td>\n",
       "      <td>0.017397</td>\n",
       "      <td>0.105422</td>\n",
       "      <td>0.060068</td>\n",
       "      <td>0.060068</td>\n",
       "      <td>0.212936</td>\n",
       "      <td>0.214755</td>\n",
       "      <td>0.097489</td>\n",
       "      <td>0.049716</td>\n",
       "      <td>0.102722</td>\n",
       "    </tr>\n",
       "    <tr>\n",
       "      <th>CasesRatio</th>\n",
       "      <td>0.247121</td>\n",
       "      <td>0.023601</td>\n",
       "      <td>0.134890</td>\n",
       "      <td>0.034406</td>\n",
       "      <td>0.034406</td>\n",
       "      <td>0.205036</td>\n",
       "      <td>0.209418</td>\n",
       "      <td>0.135206</td>\n",
       "      <td>0.095624</td>\n",
       "      <td>0.285500</td>\n",
       "    </tr>\n",
       "    <tr>\n",
       "      <th>ActivitiesRatio</th>\n",
       "      <td>0.087525</td>\n",
       "      <td>0.185722</td>\n",
       "      <td>0.205995</td>\n",
       "      <td>0.094182</td>\n",
       "      <td>0.094182</td>\n",
       "      <td>0.145693</td>\n",
       "      <td>0.150564</td>\n",
       "      <td>0.211446</td>\n",
       "      <td>0.233870</td>\n",
       "      <td>0.232257</td>\n",
       "    </tr>\n",
       "    <tr>\n",
       "      <th>Delay_Lag/Whole</th>\n",
       "      <td>0.058606</td>\n",
       "      <td>0.243831</td>\n",
       "      <td>0.238355</td>\n",
       "      <td>0.359217</td>\n",
       "      <td>0.359217</td>\n",
       "      <td>0.118411</td>\n",
       "      <td>0.111945</td>\n",
       "      <td>0.257429</td>\n",
       "      <td>0.346649</td>\n",
       "      <td>0.000000</td>\n",
       "    </tr>\n",
       "  </tbody>\n",
       "</table>\n",
       "</div>"
      ],
      "text/plain": [
       "                           Entropy     MEREC    CRITIC     CILOS   IDOCRIW  \\\n",
       "WarningSign               0.289203  0.016644  0.093012  0.039321  0.039321   \n",
       "ActiveUsers/AddedUsers    0.037007  0.512805  0.222325  0.412806  0.412806   \n",
       "Pending/Whole_TransSpeed  0.280538  0.017397  0.105422  0.060068  0.060068   \n",
       "CasesRatio                0.247121  0.023601  0.134890  0.034406  0.034406   \n",
       "ActivitiesRatio           0.087525  0.185722  0.205995  0.094182  0.094182   \n",
       "Delay_Lag/Whole           0.058606  0.243831  0.238355  0.359217  0.359217   \n",
       "\n",
       "                             ANGLE      GINI       std       var  Deal_weights  \n",
       "WarningSign               0.215030  0.215880  0.086455  0.039098      0.162694  \n",
       "ActiveUsers/AddedUsers    0.102893  0.097438  0.211976  0.235044      0.216827  \n",
       "Pending/Whole_TransSpeed  0.212936  0.214755  0.097489  0.049716      0.102722  \n",
       "CasesRatio                0.205036  0.209418  0.135206  0.095624      0.285500  \n",
       "ActivitiesRatio           0.145693  0.150564  0.211446  0.233870      0.232257  \n",
       "Delay_Lag/Whole           0.118411  0.111945  0.257429  0.346649      0.000000  "
      ]
     },
     "execution_count": 3,
     "metadata": {},
     "output_type": "execute_result"
    }
   ],
   "source": [
    "from pymcdm.weights import entropy_weights, merec_weights, critic_weights, cilos_weights, idocriw_weights, angle_weights, gini_weights, standard_deviation_weights, variance_weights\n",
    "\n",
    "# Entropy-Sahnon\n",
    "weights_entropy = entropy_weights(df.iloc[: , 1:].to_numpy()+0.00001)\n",
    "\n",
    "# MEREC\n",
    "weights_merec = merec_weights(df.iloc[: , 1:].to_numpy()+0.00001, types=np.array([1,1,1,1,1,1]))\n",
    "\n",
    "# CRITIC\n",
    "weights_critic = critic_weights(df.iloc[: , 1:].to_numpy())\n",
    "\n",
    "# CILOS\n",
    "weights_cilos = cilos_weights(df.iloc[: , 1:].to_numpy() , types=np.array([1,1,1,1,1,1]))\n",
    "\n",
    "# IDOCRIW\n",
    "weights_idocriw = idocriw_weights(df.iloc[: , 1:].to_numpy() , types=np.array([1,1,1,1,1,1]))\n",
    "\n",
    "# ANGLE\n",
    "weights_angle = angle_weights(df.iloc[: , 1:].to_numpy())\n",
    "\n",
    "# Gini\n",
    "weights_gini = gini_weights(df.iloc[: , 1:].to_numpy())\n",
    "\n",
    "# std\n",
    "weights_std = standard_deviation_weights(df.iloc[: , 1:].to_numpy())\n",
    "\n",
    "# var\n",
    "weights_var = variance_weights(df.iloc[: , 1:].to_numpy())\n",
    "\n",
    "# Deal\n",
    "df_weights = pd.DataFrame({'Entropy': weights_entropy,'MEREC': weights_merec , 'CRITIC':weights_critic ,\n",
    "                            'CILOS': weights_cilos , 'IDOCRIW':weights_idocriw , 'ANGLE':weights_angle,\n",
    "                            'GINI':weights_gini , 'std':weights_std , 'var':weights_var},\n",
    "                            index = df.iloc[:,1:].columns)\n",
    "df_weights"
   ]
  },
  {
   "attachments": {},
   "cell_type": "markdown",
   "metadata": {},
   "source": [
    "- MEREC algorithm is the newest algorithm developed and it is applicable in many areas.\n",
    "- ANGLE was proposed in 2012 and it has not come in handy and was cited only by 5 papers.\n",
    "- CILOS is used on Logistics.\n",
    "- GINI is sued in measuring wealth and in economics.\n",
    "- CRITIC is mostly used when the features are independent.\n"
   ]
  },
  {
   "attachments": {},
   "cell_type": "markdown",
   "metadata": {},
   "source": [
    "# Distribution of features"
   ]
  },
  {
   "cell_type": "code",
   "execution_count": 4,
   "metadata": {},
   "outputs": [
    {
     "data": {
      "image/png": "[encoded data removed]",
      "text/plain": [
       "<Figure size 1152x720 with 6 Axes>"
      ]
     },
     "metadata": {
      "needs_background": "light"
     },
     "output_type": "display_data"
    }
   ],
   "source": [
    "# Plotting the histograms and KDE plots\n",
    "fig, axs = plt.subplots(nrows=2, ncols=3, figsize=(16,10))\n",
    "axs = axs.flatten()\n",
    "for i, feature in enumerate(df.iloc[: , 1:].columns):\n",
    "    sns.histplot(data=df, x=feature, kde=True, ax=axs[i])\n",
    "    axs[i].set_xlabel(feature, fontsize=12)\n",
    "    axs[i].set_ylabel('Count', fontsize=12)\n",
    "\n",
    "    # Adding the number of datapoints to each bar of the histogram\n",
    "    for rect in axs[i].patches:\n",
    "        height = rect.get_height()\n",
    "        axs[i].text(rect.get_x() + rect.get_width() / 2, height+5, int(height), ha='center', va='bottom')\n",
    "\n",
    "plt.tight_layout()\n",
    "plt.show()\n"
   ]
  },
  {
   "cell_type": "markdown",
   "metadata": {},
   "source": [
    "# Health Score"
   ]
  },
  {
   "cell_type": "code",
   "execution_count": 5,
   "metadata": {
    "ExecuteTime": {
     "end_time": "2022-12-21T17:15:18.089484Z",
     "start_time": "2022-12-21T17:15:17.794096Z"
    }
   },
   "outputs": [
    {
     "data": {
      "text/html": [
       "<div>\n",
       "<style scoped>\n",
       "    .dataframe tbody tr th:only-of-type {\n",
       "        vertical-align: middle;\n",
       "    }\n",
       "\n",
       "    .dataframe tbody tr th {\n",
       "        vertical-align: top;\n",
       "    }\n",
       "\n",
       "    .dataframe thead th {\n",
       "        text-align: right;\n",
       "    }\n",
       "</style>\n",
       "<table border=\"1\" class=\"dataframe\">\n",
       "  <thead>\n",
       "    <tr style=\"text-align: right;\">\n",
       "      <th></th>\n",
       "      <th>BizDomainId</th>\n",
       "      <th>WarningSign</th>\n",
       "      <th>ActiveUsers/AddedUsers</th>\n",
       "      <th>Pending/Whole_TransSpeed</th>\n",
       "      <th>CasesRatio</th>\n",
       "      <th>ActivitiesRatio</th>\n",
       "      <th>Delay_Lag/Whole</th>\n",
       "      <th>Health_Score</th>\n",
       "    </tr>\n",
       "  </thead>\n",
       "  <tbody>\n",
       "    <tr>\n",
       "      <th>0</th>\n",
       "      <td>28710004-7957-4cae-8528-2e45bd62bbe9</td>\n",
       "      <td>0.0</td>\n",
       "      <td>0.000000</td>\n",
       "      <td>0.0</td>\n",
       "      <td>0.0</td>\n",
       "      <td>0.0</td>\n",
       "      <td>0.0</td>\n",
       "      <td>0.000</td>\n",
       "    </tr>\n",
       "    <tr>\n",
       "      <th>1</th>\n",
       "      <td>1374a992-1317-4bd8-8129-874374a25f2b</td>\n",
       "      <td>0.0</td>\n",
       "      <td>0.375000</td>\n",
       "      <td>0.0</td>\n",
       "      <td>0.0</td>\n",
       "      <td>0.0</td>\n",
       "      <td>0.0</td>\n",
       "      <td>0.684</td>\n",
       "    </tr>\n",
       "    <tr>\n",
       "      <th>2</th>\n",
       "      <td>e522f481-9224-47d1-b248-ab00983cd1a3</td>\n",
       "      <td>0.0</td>\n",
       "      <td>0.320833</td>\n",
       "      <td>0.0</td>\n",
       "      <td>0.0</td>\n",
       "      <td>0.0</td>\n",
       "      <td>0.0</td>\n",
       "      <td>0.602</td>\n",
       "    </tr>\n",
       "    <tr>\n",
       "      <th>3</th>\n",
       "      <td>d7b7b402-47a7-40df-bf26-65a5b5fdcb16</td>\n",
       "      <td>0.0</td>\n",
       "      <td>0.000000</td>\n",
       "      <td>0.0</td>\n",
       "      <td>0.0</td>\n",
       "      <td>0.0</td>\n",
       "      <td>0.0</td>\n",
       "      <td>0.000</td>\n",
       "    </tr>\n",
       "    <tr>\n",
       "      <th>4</th>\n",
       "      <td>a4a3f452-aa6d-4474-b032-82915f6fd267</td>\n",
       "      <td>0.0</td>\n",
       "      <td>0.181818</td>\n",
       "      <td>0.0</td>\n",
       "      <td>0.0</td>\n",
       "      <td>0.0</td>\n",
       "      <td>1.0</td>\n",
       "      <td>0.365</td>\n",
       "    </tr>\n",
       "  </tbody>\n",
       "</table>\n",
       "</div>"
      ],
      "text/plain": [
       "                            BizDomainId  WarningSign  ActiveUsers/AddedUsers  \\\n",
       "0  28710004-7957-4cae-8528-2e45bd62bbe9          0.0                0.000000   \n",
       "1  1374a992-1317-4bd8-8129-874374a25f2b          0.0                0.375000   \n",
       "2  e522f481-9224-47d1-b248-ab00983cd1a3          0.0                0.320833   \n",
       "3  d7b7b402-47a7-40df-bf26-65a5b5fdcb16          0.0                0.000000   \n",
       "4  a4a3f452-aa6d-4474-b032-82915f6fd267          0.0                0.181818   \n",
       "\n",
       "   Pending/Whole_TransSpeed  CasesRatio  ActivitiesRatio  Delay_Lag/Whole  \\\n",
       "0                       0.0         0.0              0.0              0.0   \n",
       "1                       0.0         0.0              0.0              0.0   \n",
       "2                       0.0         0.0              0.0              0.0   \n",
       "3                       0.0         0.0              0.0              0.0   \n",
       "4                       0.0         0.0              0.0              1.0   \n",
       "\n",
       "   Health_Score  \n",
       "0         0.000  \n",
       "1         0.684  \n",
       "2         0.602  \n",
       "3         0.000  \n",
       "4         0.365  "
      ]
     },
     "execution_count": 5,
     "metadata": {},
     "output_type": "execute_result"
    }
   ],
   "source": [
    "best = [1 , 1 , 1 , 1 , 1 , 1]\n",
    "df['Health_Score'] = np.around(1 - df.iloc[:,1:].apply(lambda x: euclidean(x , best , weights_deal) , axis=1),decimals=4)*10\n",
    "# df['Health_Score_GINI'] = np.around(1 - df.iloc[:,1:7].apply(lambda x: euclidean(x , best , weights_gini) , axis=1),decimals=4)*10\n",
    "\n",
    "df.head()"
   ]
  },
  {
   "cell_type": "code",
   "execution_count": 6,
   "metadata": {},
   "outputs": [
    {
     "data": {
      "image/png": "[encoded data removed]",
      "text/plain": [
       "<Figure size 432x288 with 1 Axes>"
      ]
     },
     "metadata": {
      "needs_background": "light"
     },
     "output_type": "display_data"
    }
   ],
   "source": [
    "sns.histplot(df['Health_Score'], kde=True ,bins=15)\n",
    "# sns.set_style('whitegrid')\n",
    "sns.despine(left=True)\n",
    "sns.set(rc={'figure.figsize':(8,6)})\n",
    "plt.xlim(0,10)\n",
    "plt.xlabel('Health Score')\n",
    "plt.ylabel('Frequency')\n",
    "plt.title('Distribution of Health Scores')\n",
    "plt.show()\n"
   ]
  }
 ],
 "metadata": {
  "kernelspec": {
   "display_name": "Python 3 (ipykernel)",
   "language": "python",
   "name": "python3"
  },
  "language_info": {
   "codemirror_mode": {
    "name": "ipython",
    "version": 3
   },
   "file_extension": ".py",
   "mimetype": "text/x-python",
   "name": "python",
   "nbconvert_exporter": "python",
   "pygments_lexer": "ipython3",
   "version": "3.10.6"
  },
  "toc": {
   "base_numbering": 1,
   "nav_menu": {},
   "number_sections": false,
   "sideBar": true,
   "skip_h1_title": false,
   "title_cell": "Table of Contents",
   "title_sidebar": "Contents",
   "toc_cell": false,
   "toc_position": {},
   "toc_section_display": true,
   "toc_window_display": true
  },
  "varInspector": {
   "cols": {
    "lenName": 16,
    "lenType": 16,
    "lenVar": 40
   },
   "kernels_config": {
    "python": {
     "delete_cmd_postfix": "",
     "delete_cmd_prefix": "del ",
     "library": "var_list.py",
     "varRefreshCmd": "print(var_dic_list())"
    },
    "r": {
     "delete_cmd_postfix": ") ",
     "delete_cmd_prefix": "rm(",
     "library": "var_list.r",
     "varRefreshCmd": "cat(var_dic_list()) "
    }
   },
   "types_to_exclude": [
    "module",
    "function",
    "builtin_function_or_method",
    "instance",
    "_Feature"
   ],
   "window_display": false
  },
  "vscode": {
   "interpreter": {
    "hash": "0cab980cf35cf107ed19e874cc5bdd34512a0ef28114c6f78920d14a3023679b"
   }
  }
 },
 "nbformat": 4,
 "nbformat_minor": 4
}
